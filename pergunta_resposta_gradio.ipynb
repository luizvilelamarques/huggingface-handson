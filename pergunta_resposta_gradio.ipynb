{
 "cells": [
  {
   "cell_type": "code",
   "execution_count": 1,
   "metadata": {},
   "outputs": [
    {
     "name": "stderr",
     "output_type": "stream",
     "text": [
      "d:\\Udemy\\huggingface\\analise_sentimento\\.venv\\Lib\\site-packages\\tqdm\\auto.py:21: TqdmWarning: IProgress not found. Please update jupyter and ipywidgets. See https://ipywidgets.readthedocs.io/en/stable/user_install.html\n",
      "  from .autonotebook import tqdm as notebook_tqdm\n"
     ]
    }
   ],
   "source": [
    "from transformers import pipeline"
   ]
  },
  {
   "cell_type": "code",
   "execution_count": 2,
   "metadata": {},
   "outputs": [
    {
     "name": "stderr",
     "output_type": "stream",
     "text": [
      "d:\\Udemy\\huggingface\\analise_sentimento\\.venv\\Lib\\site-packages\\transformers\\tokenization_utils_base.py:1601: FutureWarning: `clean_up_tokenization_spaces` was not set. It will be set to `True` by default. This behavior will be depracted in transformers v4.45, and will be then set to `False` by default. For more details check this issue: https://github.com/huggingface/transformers/issues/31884\n",
      "  warnings.warn(\n"
     ]
    }
   ],
   "source": [
    "model_qa = pipeline(\"question-answering\", model=\"deepset/roberta-base-squad2\")"
   ]
  },
  {
   "cell_type": "code",
   "execution_count": 3,
   "metadata": {},
   "outputs": [],
   "source": [
    "context = \"\"\"\n",
    "    Sarah decided to spend her Saturday afternoon at the local farmers\n",
    "    market, where she enjoyed sampling fresh produce and handamade crafts\n",
    "\"\"\"\n",
    "question = \"What actitivity did Sarah choose for her Saturday afternoon?\""
   ]
  },
  {
   "cell_type": "code",
   "execution_count": 4,
   "metadata": {},
   "outputs": [
    {
     "data": {
      "text/plain": [
       "{'score': 0.07246322929859161,\n",
       " 'start': 111,\n",
       " 'end': 145,\n",
       " 'answer': 'fresh produce and handamade crafts'}"
      ]
     },
     "execution_count": 4,
     "metadata": {},
     "output_type": "execute_result"
    }
   ],
   "source": [
    "model_qa(question=question, context=context)"
   ]
  },
  {
   "cell_type": "code",
   "execution_count": 5,
   "metadata": {},
   "outputs": [],
   "source": [
    "context2 = \"\"\"\n",
    "    After weeks of planing, the team finally launched their new mobile app,\n",
    "    which aims to help users track their fitness goals and connect with \n",
    "    personal trainers\n",
    "\"\"\"\n",
    "question2 = \"What is the main purpose of the mobile app that the team launched?\""
   ]
  },
  {
   "cell_type": "code",
   "execution_count": 6,
   "metadata": {},
   "outputs": [
    {
     "data": {
      "text/plain": [
       "{'score': 0.19365030527114868,\n",
       " 'start': 106,\n",
       " 'end': 131,\n",
       " 'answer': 'track their fitness goals'}"
      ]
     },
     "execution_count": 6,
     "metadata": {},
     "output_type": "execute_result"
    }
   ],
   "source": [
    "model_qa(question=question2, context=context2)"
   ]
  },
  {
   "cell_type": "code",
   "execution_count": 7,
   "metadata": {},
   "outputs": [],
   "source": [
    "import pandas as pd"
   ]
  },
  {
   "cell_type": "code",
   "execution_count": 8,
   "metadata": {},
   "outputs": [
    {
     "data": {
      "text/html": [
       "<div>\n",
       "<style scoped>\n",
       "    .dataframe tbody tr th:only-of-type {\n",
       "        vertical-align: middle;\n",
       "    }\n",
       "\n",
       "    .dataframe tbody tr th {\n",
       "        vertical-align: top;\n",
       "    }\n",
       "\n",
       "    .dataframe thead th {\n",
       "        text-align: right;\n",
       "    }\n",
       "</style>\n",
       "<table border=\"1\" class=\"dataframe\">\n",
       "  <thead>\n",
       "    <tr style=\"text-align: right;\">\n",
       "      <th></th>\n",
       "      <th>question</th>\n",
       "      <th>answer</th>\n",
       "    </tr>\n",
       "  </thead>\n",
       "  <tbody>\n",
       "    <tr>\n",
       "      <th>0</th>\n",
       "      <td>How do I unlock new levels in the game?</td>\n",
       "      <td>To unlock new levels, you need to complete the...</td>\n",
       "    </tr>\n",
       "    <tr>\n",
       "      <th>1</th>\n",
       "      <td>What are the system requirements for running t...</td>\n",
       "      <td>The system requirements vary by game, but gene...</td>\n",
       "    </tr>\n",
       "    <tr>\n",
       "      <th>2</th>\n",
       "      <td>How can I customize my character in the game?</td>\n",
       "      <td>You can customize your character by accessing ...</td>\n",
       "    </tr>\n",
       "    <tr>\n",
       "      <th>3</th>\n",
       "      <td>What should I do if I encounter a bug in the g...</td>\n",
       "      <td>If you encounter a bug, report it to the game'...</td>\n",
       "    </tr>\n",
       "    <tr>\n",
       "      <th>4</th>\n",
       "      <td>How can I earn in-game currency?</td>\n",
       "      <td>In-game currency can typically be earned by co...</td>\n",
       "    </tr>\n",
       "    <tr>\n",
       "      <th>5</th>\n",
       "      <td>Is there a multiplayer mode in the game?</td>\n",
       "      <td>Yes, many games offer a multiplayer mode where...</td>\n",
       "    </tr>\n",
       "    <tr>\n",
       "      <th>6</th>\n",
       "      <td>How do I save my progress in the game?</td>\n",
       "      <td>Progress is usually saved automatically throug...</td>\n",
       "    </tr>\n",
       "    <tr>\n",
       "      <th>7</th>\n",
       "      <td>Can I transfer my game progress to a new device?</td>\n",
       "      <td>Many games support cloud saving, which allows ...</td>\n",
       "    </tr>\n",
       "    <tr>\n",
       "      <th>8</th>\n",
       "      <td>What are achievements and how do I earn them?</td>\n",
       "      <td>Achievements are special goals or milestones s...</td>\n",
       "    </tr>\n",
       "    <tr>\n",
       "      <th>9</th>\n",
       "      <td>How do I access game settings or options?</td>\n",
       "      <td>To access game settings, go to the main menu a...</td>\n",
       "    </tr>\n",
       "  </tbody>\n",
       "</table>\n",
       "</div>"
      ],
      "text/plain": [
       "                                            question  \\\n",
       "0            How do I unlock new levels in the game?   \n",
       "1  What are the system requirements for running t...   \n",
       "2      How can I customize my character in the game?   \n",
       "3  What should I do if I encounter a bug in the g...   \n",
       "4                   How can I earn in-game currency?   \n",
       "5           Is there a multiplayer mode in the game?   \n",
       "6             How do I save my progress in the game?   \n",
       "7   Can I transfer my game progress to a new device?   \n",
       "8      What are achievements and how do I earn them?   \n",
       "9          How do I access game settings or options?   \n",
       "\n",
       "                                              answer  \n",
       "0  To unlock new levels, you need to complete the...  \n",
       "1  The system requirements vary by game, but gene...  \n",
       "2  You can customize your character by accessing ...  \n",
       "3  If you encounter a bug, report it to the game'...  \n",
       "4  In-game currency can typically be earned by co...  \n",
       "5  Yes, many games offer a multiplayer mode where...  \n",
       "6  Progress is usually saved automatically throug...  \n",
       "7  Many games support cloud saving, which allows ...  \n",
       "8  Achievements are special goals or milestones s...  \n",
       "9  To access game settings, go to the main menu a...  "
      ]
     },
     "execution_count": 8,
     "metadata": {},
     "output_type": "execute_result"
    }
   ],
   "source": [
    "df_questions = pd.read_csv(\"dados/games_faq.csv\")\n",
    "df_questions"
   ]
  },
  {
   "cell_type": "code",
   "execution_count": 15,
   "metadata": {},
   "outputs": [],
   "source": [
    "def question_anwswer(question):\n",
    "    context = df_questions[df_questions[\"question\"] == question]\n",
    "    result = model_qa(question=question, context=context[\"answer\"].values[0])\n",
    "    return result[\"answer\"]\n",
    "    # return context[\"answer\"].values[0]"
   ]
  },
  {
   "cell_type": "code",
   "execution_count": 16,
   "metadata": {},
   "outputs": [
    {
     "data": {
      "text/plain": [
       "'go to the main menu'"
      ]
     },
     "execution_count": 16,
     "metadata": {},
     "output_type": "execute_result"
    }
   ],
   "source": [
    "question_anwswer(\"How do I access game settings or options?\")"
   ]
  },
  {
   "cell_type": "code",
   "execution_count": 17,
   "metadata": {},
   "outputs": [
    {
     "data": {
      "text/plain": [
       "'by completing missions, winning battles, or achieving certain goals'"
      ]
     },
     "execution_count": 17,
     "metadata": {},
     "output_type": "execute_result"
    }
   ],
   "source": [
    "question_anwswer(\"How can I earn in-game currency?\")"
   ]
  },
  {
   "cell_type": "code",
   "execution_count": 18,
   "metadata": {},
   "outputs": [],
   "source": [
    "import gradio as gd"
   ]
  },
  {
   "cell_type": "code",
   "execution_count": 21,
   "metadata": {},
   "outputs": [],
   "source": [
    "app = gd.Interface(\n",
    "    fn=question_anwswer,\n",
    "    inputs=gd.Dropdown(choices=list(df_questions[\"question\"]), label=\"Selecione a Pergunta\"),\n",
    "    outputs=\"text\",\n",
    "    title=\"FAQ Games\",\n",
    "    description=\"Selecione uma pergunta do FAQ\"\n",
    ")"
   ]
  },
  {
   "cell_type": "code",
   "execution_count": 22,
   "metadata": {},
   "outputs": [
    {
     "name": "stdout",
     "output_type": "stream",
     "text": [
      "Running on local URL:  http://127.0.0.1:7860\n",
      "\n",
      "Could not create share link. Please check your internet connection or our status page: https://status.gradio.app.\n"
     ]
    },
    {
     "data": {
      "text/html": [
       "<div><iframe src=\"http://127.0.0.1:7860/\" width=\"100%\" height=\"500\" allow=\"autoplay; camera; microphone; clipboard-read; clipboard-write;\" frameborder=\"0\" allowfullscreen></iframe></div>"
      ],
      "text/plain": [
       "<IPython.core.display.HTML object>"
      ]
     },
     "metadata": {},
     "output_type": "display_data"
    },
    {
     "data": {
      "text/plain": []
     },
     "execution_count": 22,
     "metadata": {},
     "output_type": "execute_result"
    }
   ],
   "source": [
    "app.launch(share=True)"
   ]
  },
  {
   "cell_type": "code",
   "execution_count": 23,
   "metadata": {},
   "outputs": [],
   "source": [
    "context = r\"\"\"\n",
    "A pandemia de COVID-19, também conhecida como pandemia de coronavírus, é uma pandemia em curso de COVID-19, \n",
    "uma doença respiratória aguda causada pelo coronavírus da síndrome respiratória aguda grave 2 (SARS-CoV-2). \n",
    "A doença foi identificada pela primeira vez em Wuhan, na província de Hubei, República Popular da China, \n",
    "em 1 de dezembro de 2019, mas o primeiro caso foi reportado em 31 de dezembro do mesmo ano. \n",
    "Acredita-se que o vírus tenha uma origem zoonótica, porque os primeiros casos confirmados \n",
    "tinham principalmente ligações ao Mercado Atacadista de Frutos do Mar de Huanan, que também vendia animais vivos. \n",
    "Em 11 de março de 2020, a Organização Mundial da Saúde declarou o surto uma pandemia. Até 8 de fevereiro de 2021, \n",
    "pelo menos 105 743 102 casos da doença foram confirmados em pelo menos 191 países e territórios, \n",
    "com cerca de 2 308 943 mortes e 58 851 440 pessoas curadas.\n",
    "\"\"\""
   ]
  },
  {
   "cell_type": "code",
   "execution_count": 24,
   "metadata": {},
   "outputs": [
    {
     "name": "stderr",
     "output_type": "stream",
     "text": [
      "d:\\Udemy\\huggingface\\analise_sentimento\\.venv\\Lib\\site-packages\\huggingface_hub\\file_download.py:159: UserWarning: `huggingface_hub` cache-system uses symlinks by default to efficiently store duplicated files but your machine does not support them in C:\\Users\\rodri\\.cache\\huggingface\\hub\\models--pierreguillou--bert-base-cased-squad-v1.1-portuguese. Caching files will still work but in a degraded version that might require more space on your disk. This warning can be disabled by setting the `HF_HUB_DISABLE_SYMLINKS_WARNING` environment variable. For more details, see https://huggingface.co/docs/huggingface_hub/how-to-cache#limitations.\n",
      "To support symlinks on Windows, you either need to activate Developer Mode or to run Python as an administrator. In order to see activate developer mode, see this article: https://docs.microsoft.com/en-us/windows/apps/get-started/enable-your-device-for-development\n",
      "  warnings.warn(message)\n",
      "d:\\Udemy\\huggingface\\analise_sentimento\\.venv\\Lib\\site-packages\\transformers\\tokenization_utils_base.py:1601: FutureWarning: `clean_up_tokenization_spaces` was not set. It will be set to `True` by default. This behavior will be depracted in transformers v4.45, and will be then set to `False` by default. For more details check this issue: https://github.com/huggingface/transformers/issues/31884\n",
      "  warnings.warn(\n"
     ]
    }
   ],
   "source": [
    "model_name = 'pierreguillou/bert-base-cased-squad-v1.1-portuguese'\n",
    "nlp = pipeline(\"question-answering\", model=model_name)"
   ]
  },
  {
   "cell_type": "code",
   "execution_count": 27,
   "metadata": {},
   "outputs": [],
   "source": [
    "pergunta = \"Quando começou a pandemia de Covid-19 no mundo?\"\n",
    "result = nlp(question=pergunta, context=context)"
   ]
  },
  {
   "cell_type": "code",
   "execution_count": 28,
   "metadata": {},
   "outputs": [
    {
     "data": {
      "text/plain": [
       "{'score': 0.7130439281463623,\n",
       " 'start': 328,\n",
       " 'end': 349,\n",
       " 'answer': '1 de dezembro de 2019'}"
      ]
     },
     "execution_count": 28,
     "metadata": {},
     "output_type": "execute_result"
    }
   ],
   "source": [
    "result"
   ]
  },
  {
   "cell_type": "code",
   "execution_count": 31,
   "metadata": {},
   "outputs": [],
   "source": [
    "context = r\"\"\"  \n",
    "    Durante a reunião, Ana apresentou um novo projeto de marketing que visa aumentar\n",
    "    a visibilidade da marca nas redes sociais e engajar o público jovem com campanhas \n",
    "    interativas\n",
    "\"\"\"\n",
    "pergunta2 = \"Qual é o objetivo principal do novo projeto de marketing apresentado por Ana?\""
   ]
  },
  {
   "cell_type": "code",
   "execution_count": 32,
   "metadata": {},
   "outputs": [
    {
     "data": {
      "text/plain": [
       "{'score': 0.7188014388084412,\n",
       " 'start': 79,\n",
       " 'end': 133,\n",
       " 'answer': 'aumentar\\n    a visibilidade da marca nas redes sociais'}"
      ]
     },
     "execution_count": 32,
     "metadata": {},
     "output_type": "execute_result"
    }
   ],
   "source": [
    "result = nlp(question=pergunta2, context=context)\n",
    "result"
   ]
  }
 ],
 "metadata": {
  "kernelspec": {
   "display_name": ".venv",
   "language": "python",
   "name": "python3"
  },
  "language_info": {
   "codemirror_mode": {
    "name": "ipython",
    "version": 3
   },
   "file_extension": ".py",
   "mimetype": "text/x-python",
   "name": "python",
   "nbconvert_exporter": "python",
   "pygments_lexer": "ipython3",
   "version": "3.11.5"
  }
 },
 "nbformat": 4,
 "nbformat_minor": 2
}
