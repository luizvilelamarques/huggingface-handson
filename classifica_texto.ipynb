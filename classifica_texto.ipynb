{
 "cells": [
  {
   "cell_type": "code",
   "execution_count": 1,
   "metadata": {},
   "outputs": [
    {
     "name": "stderr",
     "output_type": "stream",
     "text": [
      "d:\\Udemy\\huggingface\\analise_sentimento\\.venv\\Lib\\site-packages\\tqdm\\auto.py:21: TqdmWarning: IProgress not found. Please update jupyter and ipywidgets. See https://ipywidgets.readthedocs.io/en/stable/user_install.html\n",
      "  from .autonotebook import tqdm as notebook_tqdm\n"
     ]
    }
   ],
   "source": [
    "from transformers import pipeline"
   ]
  },
  {
   "cell_type": "code",
   "execution_count": 2,
   "metadata": {},
   "outputs": [
    {
     "name": "stderr",
     "output_type": "stream",
     "text": [
      "d:\\Udemy\\huggingface\\analise_sentimento\\.venv\\Lib\\site-packages\\transformers\\tokenization_utils_base.py:1601: FutureWarning: `clean_up_tokenization_spaces` was not set. It will be set to `True` by default. This behavior will be depracted in transformers v4.45, and will be then set to `False` by default. For more details check this issue: https://github.com/huggingface/transformers/issues/31884\n",
      "  warnings.warn(\n"
     ]
    }
   ],
   "source": [
    "classifier = pipeline(\"zero-shot-classification\",model=\"facebook/bart-large-mnli\")"
   ]
  },
  {
   "cell_type": "code",
   "execution_count": 3,
   "metadata": {},
   "outputs": [],
   "source": [
    "categories = ['Outdoor Gear', 'Kitchen Appliances', 'Apparel']"
   ]
  },
  {
   "cell_type": "code",
   "execution_count": 4,
   "metadata": {},
   "outputs": [],
   "source": [
    "phrase1 = \"This lightweight backpack is perfect for outdoor adventures and hiking trips\"\n",
    "phrase2 = \"This high-end blender features multiple speed settings and a durable stainless steel blade\"\n",
    "phrase3 = \"This cozy, hand-knitted sweater is made from 100% organic wool and available is various sizes\""
   ]
  },
  {
   "cell_type": "code",
   "execution_count": 5,
   "metadata": {},
   "outputs": [
    {
     "data": {
      "text/plain": [
       "{'sequence': 'This lightweight backpack is perfect for outdoor adventures and hiking trips',\n",
       " 'labels': ['Outdoor Gear', 'Apparel', 'Kitchen Appliances'],\n",
       " 'scores': [0.9847255349159241, 0.011576280929148197, 0.0036982304882258177]}"
      ]
     },
     "execution_count": 5,
     "metadata": {},
     "output_type": "execute_result"
    }
   ],
   "source": [
    "predict = classifier(phrase1, candidate_labels=categories)\n",
    "predict"
   ]
  },
  {
   "cell_type": "code",
   "execution_count": 6,
   "metadata": {},
   "outputs": [
    {
     "data": {
      "text/plain": [
       "{'sequence': 'This high-end blender features multiple speed settings and a durable stainless steel blade',\n",
       " 'labels': ['Kitchen Appliances', 'Outdoor Gear', 'Apparel'],\n",
       " 'scores': [0.8003118634223938, 0.13100369274616241, 0.0686844140291214]}"
      ]
     },
     "execution_count": 6,
     "metadata": {},
     "output_type": "execute_result"
    }
   ],
   "source": [
    "predict = classifier(phrase2, candidate_labels=categories)\n",
    "predict"
   ]
  },
  {
   "cell_type": "code",
   "execution_count": 7,
   "metadata": {},
   "outputs": [
    {
     "data": {
      "text/plain": [
       "{'sequence': 'This cozy, hand-knitted sweater is made from 100% organic wool and available is various sizes',\n",
       " 'labels': ['Apparel', 'Outdoor Gear', 'Kitchen Appliances'],\n",
       " 'scores': [0.7891675233840942, 0.13525329530239105, 0.0755791887640953]}"
      ]
     },
     "execution_count": 7,
     "metadata": {},
     "output_type": "execute_result"
    }
   ],
   "source": [
    "predict = classifier(phrase3, candidate_labels=categories)\n",
    "predict"
   ]
  },
  {
   "cell_type": "code",
   "execution_count": 1,
   "metadata": {},
   "outputs": [
    {
     "name": "stderr",
     "output_type": "stream",
     "text": [
      "d:\\Udemy\\huggingface\\analise_sentimento\\.venv\\Lib\\site-packages\\tqdm\\auto.py:21: TqdmWarning: IProgress not found. Please update jupyter and ipywidgets. See https://ipywidgets.readthedocs.io/en/stable/user_install.html\n",
      "  from .autonotebook import tqdm as notebook_tqdm\n"
     ]
    }
   ],
   "source": [
    "from liqfit.pipeline import ZeroShotClassificationPipeline\n",
    "from liqfit.models import T5ForZeroShotClassification\n",
    "from transformers import T5Tokenizer"
   ]
  },
  {
   "cell_type": "code",
   "execution_count": 2,
   "metadata": {},
   "outputs": [
    {
     "name": "stderr",
     "output_type": "stream",
     "text": [
      "You are using a model of type T5 to instantiate a model of type t5. This is not supported for all configurations of models and can yield errors.\n",
      "You are using the default legacy behaviour of the <class 'transformers.models.t5.tokenization_t5.T5Tokenizer'>. This is expected, and simply means that the `legacy` (previous) behavior will be used so nothing changes for you. If you want to use the new behaviour, set `legacy=False`. This should only be set if you understand what it means, and thoroughly read the reason why this was added as explained in https://github.com/huggingface/transformers/pull/24565\n"
     ]
    }
   ],
   "source": [
    "model = T5ForZeroShotClassification.from_pretrained('knowledgator/comprehend_it-multilingual-t5-base')\n",
    "tokenizer = T5Tokenizer.from_pretrained('knowledgator/comprehend_it-multilingual-t5-base')\n",
    "classifier = ZeroShotClassificationPipeline(model=model, tokenizer=tokenizer,\n",
    "                        hypothesis_template = '{}', encoder_decoder = True)"
   ]
  },
  {
   "cell_type": "code",
   "execution_count": 3,
   "metadata": {},
   "outputs": [],
   "source": [
    "categorias = [\"Esporte\", \"Moda\", \"Ciência\"]\n",
    "frase1 = \"O livro sobre astronomia foi muito informativo e interessante.\"\n",
    "frase2 = \"Ela comprou um vestido novo para a festa de aniversário.\"\n",
    "frase3 = \"O time de futebol venceu o campeonato estadual.\""
   ]
  },
  {
   "cell_type": "code",
   "execution_count": 4,
   "metadata": {},
   "outputs": [
    {
     "name": "stderr",
     "output_type": "stream",
     "text": [
      "Asking to truncate to max_length but no maximum length is provided and the model has no predefined maximum length. Default to no truncation.\n"
     ]
    },
    {
     "data": {
      "text/plain": [
       "{'sequence': 'O livro sobre astronomia foi muito informativo e interessante.',\n",
       " 'labels': ['Ciência', 'Esporte', 'Moda'],\n",
       " 'scores': [0.6034311056137085, 0.26732730865478516, 0.12924163043498993]}"
      ]
     },
     "execution_count": 4,
     "metadata": {},
     "output_type": "execute_result"
    }
   ],
   "source": [
    "resultado = classifier(frase1, categorias, multi_label=False)\n",
    "resultado"
   ]
  },
  {
   "cell_type": "code",
   "execution_count": 5,
   "metadata": {},
   "outputs": [
    {
     "data": {
      "text/plain": [
       "{'sequence': 'Ela comprou um vestido novo para a festa de aniversário.',\n",
       " 'labels': ['Moda', 'Esporte', 'Ciência'],\n",
       " 'scores': [0.6500799655914307, 0.18261080980300903, 0.16730928421020508]}"
      ]
     },
     "execution_count": 5,
     "metadata": {},
     "output_type": "execute_result"
    }
   ],
   "source": [
    "resultado = classifier(frase2, categorias, multi_label=False)\n",
    "resultado"
   ]
  },
  {
   "cell_type": "code",
   "execution_count": 6,
   "metadata": {},
   "outputs": [
    {
     "data": {
      "text/plain": [
       "{'sequence': 'O time de futebol venceu o campeonato estadual.',\n",
       " 'labels': ['Esporte', 'Ciência', 'Moda'],\n",
       " 'scores': [0.8571128249168396, 0.12767237424850464, 0.015214790590107441]}"
      ]
     },
     "execution_count": 6,
     "metadata": {},
     "output_type": "execute_result"
    }
   ],
   "source": [
    "resultado = classifier(frase3, categorias, multi_label=False)\n",
    "resultado"
   ]
  },
  {
   "cell_type": "code",
   "execution_count": 7,
   "metadata": {},
   "outputs": [],
   "source": [
    "import pandas as pd"
   ]
  },
  {
   "cell_type": "code",
   "execution_count": 8,
   "metadata": {},
   "outputs": [
    {
     "data": {
      "text/html": [
       "<div>\n",
       "<style scoped>\n",
       "    .dataframe tbody tr th:only-of-type {\n",
       "        vertical-align: middle;\n",
       "    }\n",
       "\n",
       "    .dataframe tbody tr th {\n",
       "        vertical-align: top;\n",
       "    }\n",
       "\n",
       "    .dataframe thead th {\n",
       "        text-align: right;\n",
       "    }\n",
       "</style>\n",
       "<table border=\"1\" class=\"dataframe\">\n",
       "  <thead>\n",
       "    <tr style=\"text-align: right;\">\n",
       "      <th></th>\n",
       "      <th>ID</th>\n",
       "      <th>Frase</th>\n",
       "    </tr>\n",
       "  </thead>\n",
       "  <tbody>\n",
       "    <tr>\n",
       "      <th>0</th>\n",
       "      <td>1</td>\n",
       "      <td>O time de futebol venceu o campeonato estadual.</td>\n",
       "    </tr>\n",
       "    <tr>\n",
       "      <th>1</th>\n",
       "      <td>2</td>\n",
       "      <td>O novo uniforme da equipe está disponível para...</td>\n",
       "    </tr>\n",
       "    <tr>\n",
       "      <th>2</th>\n",
       "      <td>3</td>\n",
       "      <td>A Copa do Mundo de 2026 será realizada nos Est...</td>\n",
       "    </tr>\n",
       "    <tr>\n",
       "      <th>3</th>\n",
       "      <td>4</td>\n",
       "      <td>Ela decidiu usar um vestido vermelho brilhante...</td>\n",
       "    </tr>\n",
       "    <tr>\n",
       "      <th>4</th>\n",
       "      <td>5</td>\n",
       "      <td>O jogador foi eleito o melhor atleta do ano.</td>\n",
       "    </tr>\n",
       "  </tbody>\n",
       "</table>\n",
       "</div>"
      ],
      "text/plain": [
       "   ID                                              Frase\n",
       "0   1    O time de futebol venceu o campeonato estadual.\n",
       "1   2  O novo uniforme da equipe está disponível para...\n",
       "2   3  A Copa do Mundo de 2026 será realizada nos Est...\n",
       "3   4  Ela decidiu usar um vestido vermelho brilhante...\n",
       "4   5       O jogador foi eleito o melhor atleta do ano."
      ]
     },
     "execution_count": 8,
     "metadata": {},
     "output_type": "execute_result"
    }
   ],
   "source": [
    "df_frases = pd.read_csv(\"dados/frases2.csv\")\n",
    "df_frases.head()"
   ]
  },
  {
   "cell_type": "code",
   "execution_count": 11,
   "metadata": {},
   "outputs": [
    {
     "data": {
      "text/plain": [
       "[0.8571128249168396, 0.12767237424850464, 0.015214790590107441]"
      ]
     },
     "execution_count": 11,
     "metadata": {},
     "output_type": "execute_result"
    }
   ],
   "source": [
    "resultado_df = classifier(df_frases[\"Frase\"], categorias, multi_label=False)\n",
    "resultado_df['labels']\n",
    "resultado_df['scores']"
   ]
  },
  {
   "cell_type": "code",
   "execution_count": 23,
   "metadata": {},
   "outputs": [],
   "source": [
    "def classificar(frase):\n",
    "    resultado_df = classifier(frase, categorias, multi_label=False)\n",
    "    if 'scores' not in resultado_df or 'labels' not in resultado_df:\n",
    "        raise ValueError(\"Resultado não possui scores ou labels\")\n",
    "    scores = resultado_df[\"scores\"]\n",
    "    labels = resultado_df[\"labels\"]\n",
    "    \n",
    "    if not scores or not labels:\n",
    "        raise ValueError(\"Lista de Scores ou labels está vazia\")\n",
    "    \n",
    "    max_score_index = scores.index(max(scores))\n",
    "    \n",
    "    return labels[max_score_index]\n",
    "    "
   ]
  },
  {
   "cell_type": "code",
   "execution_count": 24,
   "metadata": {},
   "outputs": [
    {
     "data": {
      "text/html": [
       "<div>\n",
       "<style scoped>\n",
       "    .dataframe tbody tr th:only-of-type {\n",
       "        vertical-align: middle;\n",
       "    }\n",
       "\n",
       "    .dataframe tbody tr th {\n",
       "        vertical-align: top;\n",
       "    }\n",
       "\n",
       "    .dataframe thead th {\n",
       "        text-align: right;\n",
       "    }\n",
       "</style>\n",
       "<table border=\"1\" class=\"dataframe\">\n",
       "  <thead>\n",
       "    <tr style=\"text-align: right;\">\n",
       "      <th></th>\n",
       "      <th>ID</th>\n",
       "      <th>Frase</th>\n",
       "      <th>Categoria</th>\n",
       "    </tr>\n",
       "  </thead>\n",
       "  <tbody>\n",
       "    <tr>\n",
       "      <th>0</th>\n",
       "      <td>1</td>\n",
       "      <td>O time de futebol venceu o campeonato estadual.</td>\n",
       "      <td>Esporte</td>\n",
       "    </tr>\n",
       "    <tr>\n",
       "      <th>1</th>\n",
       "      <td>2</td>\n",
       "      <td>O novo uniforme da equipe está disponível para...</td>\n",
       "      <td>Esporte</td>\n",
       "    </tr>\n",
       "    <tr>\n",
       "      <th>2</th>\n",
       "      <td>3</td>\n",
       "      <td>A Copa do Mundo de 2026 será realizada nos Est...</td>\n",
       "      <td>Esporte</td>\n",
       "    </tr>\n",
       "    <tr>\n",
       "      <th>3</th>\n",
       "      <td>4</td>\n",
       "      <td>Ela decidiu usar um vestido vermelho brilhante...</td>\n",
       "      <td>Moda</td>\n",
       "    </tr>\n",
       "    <tr>\n",
       "      <th>4</th>\n",
       "      <td>5</td>\n",
       "      <td>O jogador foi eleito o melhor atleta do ano.</td>\n",
       "      <td>Esporte</td>\n",
       "    </tr>\n",
       "    <tr>\n",
       "      <th>5</th>\n",
       "      <td>6</td>\n",
       "      <td>O desfile de moda na semana passada apresentou...</td>\n",
       "      <td>Moda</td>\n",
       "    </tr>\n",
       "    <tr>\n",
       "      <th>6</th>\n",
       "      <td>7</td>\n",
       "      <td>O campeonato de basquete está se aproximando e...</td>\n",
       "      <td>Esporte</td>\n",
       "    </tr>\n",
       "    <tr>\n",
       "      <th>7</th>\n",
       "      <td>8</td>\n",
       "      <td>O cientista fez uma descoberta importante sobr...</td>\n",
       "      <td>Ciência</td>\n",
       "    </tr>\n",
       "    <tr>\n",
       "      <th>8</th>\n",
       "      <td>9</td>\n",
       "      <td>A última coleção de verão foi inspirada nas co...</td>\n",
       "      <td>Ciência</td>\n",
       "    </tr>\n",
       "    <tr>\n",
       "      <th>9</th>\n",
       "      <td>10</td>\n",
       "      <td>O novo estádio será inaugurado no próximo mês.</td>\n",
       "      <td>Ciência</td>\n",
       "    </tr>\n",
       "    <tr>\n",
       "      <th>10</th>\n",
       "      <td>11</td>\n",
       "      <td>Os tênis da marca X são conhecidos pelo seu co...</td>\n",
       "      <td>Esporte</td>\n",
       "    </tr>\n",
       "    <tr>\n",
       "      <th>11</th>\n",
       "      <td>12</td>\n",
       "      <td>O documentário sobre a vida dos astronautas fo...</td>\n",
       "      <td>Ciência</td>\n",
       "    </tr>\n",
       "    <tr>\n",
       "      <th>12</th>\n",
       "      <td>13</td>\n",
       "      <td>A equipe de vôlei feminino ganhou o torneio in...</td>\n",
       "      <td>Esporte</td>\n",
       "    </tr>\n",
       "    <tr>\n",
       "      <th>13</th>\n",
       "      <td>14</td>\n",
       "      <td>As revistas de moda estão repletas de novas di...</td>\n",
       "      <td>Moda</td>\n",
       "    </tr>\n",
       "    <tr>\n",
       "      <th>14</th>\n",
       "      <td>15</td>\n",
       "      <td>Os pesquisadores descobriram uma nova espécie ...</td>\n",
       "      <td>Ciência</td>\n",
       "    </tr>\n",
       "    <tr>\n",
       "      <th>15</th>\n",
       "      <td>16</td>\n",
       "      <td>A vitória no torneio de xadrez foi um marco na...</td>\n",
       "      <td>Esporte</td>\n",
       "    </tr>\n",
       "    <tr>\n",
       "      <th>16</th>\n",
       "      <td>17</td>\n",
       "      <td>Ela fez um ensaio fotográfico com a nova linha...</td>\n",
       "      <td>Moda</td>\n",
       "    </tr>\n",
       "    <tr>\n",
       "      <th>17</th>\n",
       "      <td>18</td>\n",
       "      <td>A conferência sobre mudanças climáticas trouxe...</td>\n",
       "      <td>Ciência</td>\n",
       "    </tr>\n",
       "    <tr>\n",
       "      <th>18</th>\n",
       "      <td>19</td>\n",
       "      <td>O piloto conquistou o primeiro lugar na corrid...</td>\n",
       "      <td>Esporte</td>\n",
       "    </tr>\n",
       "    <tr>\n",
       "      <th>19</th>\n",
       "      <td>20</td>\n",
       "      <td>O design minimalista da nova coleção de joias ...</td>\n",
       "      <td>Moda</td>\n",
       "    </tr>\n",
       "    <tr>\n",
       "      <th>20</th>\n",
       "      <td>21</td>\n",
       "      <td>O artigo científico publicado na revista Natur...</td>\n",
       "      <td>Ciência</td>\n",
       "    </tr>\n",
       "    <tr>\n",
       "      <th>21</th>\n",
       "      <td>22</td>\n",
       "      <td>Os atletas se prepararam intensamente para os ...</td>\n",
       "      <td>Esporte</td>\n",
       "    </tr>\n",
       "    <tr>\n",
       "      <th>22</th>\n",
       "      <td>23</td>\n",
       "      <td>O novo tutorial de maquiagem apresenta técnica...</td>\n",
       "      <td>Moda</td>\n",
       "    </tr>\n",
       "    <tr>\n",
       "      <th>23</th>\n",
       "      <td>24</td>\n",
       "      <td>O estudo sobre a teoria das cordas está revolu...</td>\n",
       "      <td>Ciência</td>\n",
       "    </tr>\n",
       "    <tr>\n",
       "      <th>24</th>\n",
       "      <td>25</td>\n",
       "      <td>O torneio de esportes eletrônicos atraiu milha...</td>\n",
       "      <td>Esporte</td>\n",
       "    </tr>\n",
       "  </tbody>\n",
       "</table>\n",
       "</div>"
      ],
      "text/plain": [
       "    ID                                              Frase Categoria\n",
       "0    1    O time de futebol venceu o campeonato estadual.   Esporte\n",
       "1    2  O novo uniforme da equipe está disponível para...   Esporte\n",
       "2    3  A Copa do Mundo de 2026 será realizada nos Est...   Esporte\n",
       "3    4  Ela decidiu usar um vestido vermelho brilhante...      Moda\n",
       "4    5       O jogador foi eleito o melhor atleta do ano.   Esporte\n",
       "5    6  O desfile de moda na semana passada apresentou...      Moda\n",
       "6    7  O campeonato de basquete está se aproximando e...   Esporte\n",
       "7    8  O cientista fez uma descoberta importante sobr...   Ciência\n",
       "8    9  A última coleção de verão foi inspirada nas co...   Ciência\n",
       "9   10     O novo estádio será inaugurado no próximo mês.   Ciência\n",
       "10  11  Os tênis da marca X são conhecidos pelo seu co...   Esporte\n",
       "11  12  O documentário sobre a vida dos astronautas fo...   Ciência\n",
       "12  13  A equipe de vôlei feminino ganhou o torneio in...   Esporte\n",
       "13  14  As revistas de moda estão repletas de novas di...      Moda\n",
       "14  15  Os pesquisadores descobriram uma nova espécie ...   Ciência\n",
       "15  16  A vitória no torneio de xadrez foi um marco na...   Esporte\n",
       "16  17  Ela fez um ensaio fotográfico com a nova linha...      Moda\n",
       "17  18  A conferência sobre mudanças climáticas trouxe...   Ciência\n",
       "18  19  O piloto conquistou o primeiro lugar na corrid...   Esporte\n",
       "19  20  O design minimalista da nova coleção de joias ...      Moda\n",
       "20  21  O artigo científico publicado na revista Natur...   Ciência\n",
       "21  22  Os atletas se prepararam intensamente para os ...   Esporte\n",
       "22  23  O novo tutorial de maquiagem apresenta técnica...      Moda\n",
       "23  24  O estudo sobre a teoria das cordas está revolu...   Ciência\n",
       "24  25  O torneio de esportes eletrônicos atraiu milha...   Esporte"
      ]
     },
     "execution_count": 24,
     "metadata": {},
     "output_type": "execute_result"
    }
   ],
   "source": [
    "df_frases[\"Categoria\"] = df_frases[\"Frase\"].apply(classificar)\n",
    "df_frases"
   ]
  }
 ],
 "metadata": {
  "kernelspec": {
   "display_name": ".venv",
   "language": "python",
   "name": "python3"
  },
  "language_info": {
   "codemirror_mode": {
    "name": "ipython",
    "version": 3
   },
   "file_extension": ".py",
   "mimetype": "text/x-python",
   "name": "python",
   "nbconvert_exporter": "python",
   "pygments_lexer": "ipython3",
   "version": "3.11.5"
  }
 },
 "nbformat": 4,
 "nbformat_minor": 2
}
