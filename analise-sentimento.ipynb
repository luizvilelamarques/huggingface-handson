{
 "cells": [
  {
   "cell_type": "markdown",
   "id": "39caa1a1",
   "metadata": {},
   "source": [
    "# Importando as bibliotecas necessárias\n",
    "# A biblioteca transformers é essencial para carregar e usar modelos do Hugging Face.\n",
    "# torch é o framework de deep learning que muitos modelos do Hugging Face usam como backend."
   ]
  },
  {
   "cell_type": "code",
   "execution_count": null,
   "id": "aaafaf4d",
   "metadata": {},
   "outputs": [
    {
     "name": "stderr",
     "output_type": "stream",
     "text": [
      "c:\\Users\\lamarques\\Desktop\\hugginface\\venv\\Lib\\site-packages\\tqdm\\auto.py:21: TqdmWarning: IProgress not found. Please update jupyter and ipywidgets. See https://ipywidgets.readthedocs.io/en/stable/user_install.html\n",
      "  from .autonotebook import tqdm as notebook_tqdm\n"
     ]
    }
   ],
   "source": [
    "from transformers import pipeline\n",
    "import torch"
   ]
  },
  {
   "cell_type": "code",
   "execution_count": null,
   "id": "b2404fda",
   "metadata": {},
   "outputs": [],
   "source": [
    "# --- Configuração do Modelo de Análise de Sentimento ---\n",
    "\n",
    "# Definindo o nome do modelo pré-treinado do Hugging Face para análise de sentimento em português.\n",
    "# 'pysentimiento/bertweet-pt-sentiment' é um modelo robusto e treinado especificamente\n",
    "# para identificar sentimentos (positivo, negativo, neutro) em textos em português.\n",
    "model_name = \"pysentimiento/bertweet-pt-sentiment\""
   ]
  },
  {
   "cell_type": "code",
   "execution_count": null,
   "id": "888417d4",
   "metadata": {},
   "outputs": [],
   "source": [
    "# Definindo o nome do modelo pré-treinado do Hugging Face para análise de sentimento em português.\n",
    "# 'finiteautomata/bertweetpt-base-sentiment-analysis' é um modelo robusto e treinado especificamente\n",
    "# para identificar sentimentos (positivo, negativo, neutro) em textos em português.\n",
    "model_name = \"finiteautomata/bertweetpt-base-sentiment-analysis\"\n"
   ]
  },
  {
   "cell_type": "markdown",
   "id": "874380b5",
   "metadata": {},
   "source": [
    "# --- Criacao da pipeline"
   ]
  },
  {
   "cell_type": "code",
   "execution_count": 22,
   "id": "07d5a72a",
   "metadata": {},
   "outputs": [
    {
     "name": "stderr",
     "output_type": "stream",
     "text": [
      "c:\\Users\\lamarques\\Desktop\\hugginface\\venv\\Lib\\site-packages\\huggingface_hub\\file_download.py:143: UserWarning: `huggingface_hub` cache-system uses symlinks by default to efficiently store duplicated files but your machine does not support them in C:\\Users\\lamarques\\.cache\\huggingface\\hub\\models--pysentimiento--bertweet-pt-sentiment. Caching files will still work but in a degraded version that might require more space on your disk. This warning can be disabled by setting the `HF_HUB_DISABLE_SYMLINKS_WARNING` environment variable. For more details, see https://huggingface.co/docs/huggingface_hub/how-to-cache#limitations.\n",
      "To support symlinks on Windows, you either need to activate Developer Mode or to run Python as an administrator. In order to activate developer mode, see this article: https://docs.microsoft.com/en-us/windows/apps/get-started/enable-your-device-for-development\n",
      "  warnings.warn(message)\n",
      "Xet Storage is enabled for this repo, but the 'hf_xet' package is not installed. Falling back to regular HTTP download. For better performance, install the package with: `pip install huggingface_hub[hf_xet]` or `pip install hf_xet`\n",
      "emoji is not installed, thus not converting emoticons or emojis into text. Install emoji: pip3 install emoji==0.6.0\n",
      "Device set to use cpu\n"
     ]
    },
    {
     "name": "stdout",
     "output_type": "stream",
     "text": [
      "Modelo 'pysentimiento/bertweet-pt-sentiment' carregado com sucesso!\n"
     ]
    }
   ],
   "source": [
    "classifier = None # Inicializa classifier como None\n",
    "try:\n",
    "    classifier = pipeline(\"sentiment-analysis\", model=model_name)\n",
    "    print(f\"Modelo '{model_name}' carregado com sucesso!\")\n",
    "except Exception as e:\n",
    "    print(f\"Erro ao carregar o modelo: {e}\")\n",
    "    print(\"Por favor, verifique sua conexão com a internet ou se o nome do modelo está correto.\")\n",
    "    print(\"Certifique-se também de que a biblioteca 'transformers' e 'torch' estão corretamente instaladas e atualizadas.\")\n",
    "    # No Jupyter, é melhor não usar exit() diretamente, pois isso encerra o kernel.\n",
    "    # Em vez disso, informamos o usuário e permitimos que o código continue, mas com 'classifier' como None.\n"
   ]
  },
  {
   "cell_type": "code",
   "execution_count": 23,
   "id": "847258b7",
   "metadata": {},
   "outputs": [],
   "source": [
    "# --- Função de Análise de Sentimento ---\n",
    "\n",
    "def analisar_sentimento(texto):\n",
    "    \"\"\"\n",
    "    Realiza a análise de sentimento de um dado texto em português usando o modelo carregado.\n",
    "\n",
    "    Args:\n",
    "        texto (str): O texto a ser analisado.\n",
    "\n",
    "    Returns:\n",
    "        dict: Um dicionário contendo o label (POSITIVO, NEGATIVO, NEUTRO) e a pontuação de confiança.\n",
    "    \"\"\"\n",
    "    if not isinstance(texto, str) or not texto.strip():\n",
    "        return {\"erro\": \"Por favor, forneça um texto válido para análise.\"}\n",
    "\n",
    "    try:\n",
    "        # O classifier retorna uma lista de dicionários, cada um com 'label' e 'score'.\n",
    "        resultado = classifier(texto)[0]\n",
    "        return resultado\n",
    "    except Exception as e:\n",
    "        return {\"erro\": f\"Ocorreu um erro durante a análise: {e}\"}"
   ]
  },
  {
   "cell_type": "markdown",
   "id": "1da77736",
   "metadata": {},
   "source": [
    "# Testando uma frase positiva"
   ]
  },
  {
   "cell_type": "code",
   "execution_count": 28,
   "id": "25f4588a",
   "metadata": {},
   "outputs": [
    {
     "name": "stdout",
     "output_type": "stream",
     "text": [
      "  Sentimento: POS (Confiança: 0.99)\n"
     ]
    }
   ],
   "source": [
    "sentimento = analisar_sentimento(\"Gostei demais do produto, excelente qualidade!\")\n",
    "if \"erro\" in sentimento:\n",
    "    print(f\"  Erro: {sentimento['erro']}\")\n",
    "else:\n",
    "    label = sentimento['label']\n",
    "    score = sentimento['score']\n",
    "    print(f\"  Sentimento: {label} (Confiança: {score:.2f})\")"
   ]
  },
  {
   "cell_type": "markdown",
   "id": "70426e6c",
   "metadata": {},
   "source": [
    "# Testando uma frase negativa"
   ]
  },
  {
   "cell_type": "code",
   "execution_count": 29,
   "id": "d27a8790",
   "metadata": {},
   "outputs": [
    {
     "name": "stdout",
     "output_type": "stream",
     "text": [
      "  Sentimento: NEG (Confiança: 0.99)\n"
     ]
    }
   ],
   "source": [
    "sentimento = analisar_sentimento(\"Péssimo atendimento, não recomendo a ninguém!\")\n",
    "if \"erro\" in sentimento:\n",
    "    print(f\"  Erro: {sentimento['erro']}\")\n",
    "else:\n",
    "    label = sentimento['label']\n",
    "    score = sentimento['score']\n",
    "    print(f\"  Sentimento: {label} (Confiança: {score:.2f})\")"
   ]
  },
  {
   "cell_type": "markdown",
   "id": "2a3e99ea",
   "metadata": {},
   "source": [
    "# Frases em massa"
   ]
  },
  {
   "cell_type": "code",
   "execution_count": null,
   "id": "258563c1",
   "metadata": {},
   "outputs": [
    {
     "name": "stdout",
     "output_type": "stream",
     "text": [
      "\n",
      "--- Testando a Análise de Sentimento ---\n",
      "\n",
      "Texto 1: 'Adorei o atendimento, foi excelente!'\n",
      "  Sentimento: POS (Confiança: 0.99)\n",
      "\n",
      "Texto 2: 'O serviço estava um pouco lento, mas no geral foi bom.'\n",
      "  Sentimento: POS (Confiança: 0.80)\n",
      "\n",
      "Texto 3: 'Que decepção, o produto chegou quebrado e a qualidade é péssima.'\n",
      "  Sentimento: NEG (Confiança: 0.99)\n",
      "\n",
      "Texto 4: 'O dia está nublado hoje.'\n",
      "  Sentimento: NEU (Confiança: 0.49)\n",
      "\n",
      "Texto 5: 'Achei o filme sensacional, recomendo a todos!'\n",
      "  Sentimento: POS (Confiança: 0.99)\n",
      "\n",
      "Texto 6: 'Não gostei nem um pouco, perdi meu tempo e dinheiro.'\n",
      "  Sentimento: NEG (Confiança: 0.99)\n"
     ]
    }
   ],
   "source": [
    "# --- Exemplos de Uso ---\n",
    "textos_para_analisar = [\n",
    "    \"Adorei o atendimento, foi excelente!\",\n",
    "    \"O serviço estava um pouco lento, mas no geral foi bom.\",\n",
    "    \"Que decepção, o produto chegou quebrado e a qualidade é péssima.\",\n",
    "    \"O dia está nublado hoje.\",\n",
    "    \"Achei o filme sensacional, recomendo a todos!\",\n",
    "    \"Não gostei nem um pouco, perdi meu tempo e dinheiro.\"\n",
    "]\n",
    "\n",
    "for i, texto in enumerate(textos_para_analisar):\n",
    "    print(f\"\\nTexto {i+1}: '{texto}'\")\n",
    "    sentimento = analisar_sentimento(texto)\n",
    "    if \"erro\" in sentimento:\n",
    "        print(f\"  Erro: {sentimento['erro']}\")\n",
    "    else:\n",
    "        label = sentimento['label']\n",
    "        score = sentimento['score']\n",
    "        print(f\"  Sentimento: {label} (Confiança: {score:.2f})\")"
   ]
  },
  {
   "cell_type": "markdown",
   "id": "ec9bfc87",
   "metadata": {},
   "source": [
    "# Texto longo com contexto mais elaborado"
   ]
  },
  {
   "cell_type": "code",
   "execution_count": 26,
   "id": "e785a6b6",
   "metadata": {},
   "outputs": [
    {
     "name": "stdout",
     "output_type": "stream",
     "text": [
      "\n",
      "--- Análise de um texto mais longo ---\n",
      "Texto: '\n",
      "A reunião de hoje foi bastante produtiva. Discutimos os próximos passos do projeto\n",
      "e definimos as responsabilidades de cada um. Houve alguns pontos de discordância\n",
      "inicialmente, mas conseguimos chegar a um consenso. A equipe demonstrou grande\n",
      "comprometimento. No entanto, o atraso na entrega do relatório anterior ainda é uma\n",
      "preocupação e precisa ser endereçado com urgência para não impactar o cronograma.\n",
      "'\n",
      "  Sentimento: POS (Confiança: 0.69)\n"
     ]
    }
   ],
   "source": [
    "# --- Exemplo com um texto mais longo ---\n",
    "texto_longo = \"\"\"\n",
    "A reunião de hoje foi bastante produtiva. Discutimos os próximos passos do projeto\n",
    "e definimos as responsabilidades de cada um. Houve alguns pontos de discordância\n",
    "inicialmente, mas conseguimos chegar a um consenso. A equipe demonstrou grande\n",
    "comprometimento. No entanto, o atraso na entrega do relatório anterior ainda é uma\n",
    "preocupação e precisa ser endereçado com urgência para não impactar o cronograma.\n",
    "\"\"\"\n",
    "print(\"\\n--- Análise de um texto mais longo ---\")\n",
    "print(f\"Texto: '{texto_longo}'\")\n",
    "sentimento_longo = analisar_sentimento(texto_longo)\n",
    "if \"erro\" in sentimento_longo:\n",
    "    print(f\"  Erro: {sentimento_longo['erro']}\")\n",
    "else:\n",
    "    label_longo = sentimento_longo['label']\n",
    "    score_longo = sentimento_longo['score']\n",
    "    print(f\"  Sentimento: {label_longo} (Confiança: {score_longo:.2f})\")\n",
    "\n",
    "# --- Observações ---\n",
    "# Os labels geralmente são 'POSITIVE', 'NEGATIVE' e 'NEUTRAL'.\n",
    "# A pontuação (score) indica a confiança do modelo na classificação. Quanto mais próximo de 1, mais confiante.\n",
    "# Para textos complexos ou ambíguos, o modelo pode ter menor confiança ou um resultado \"Neutro\"."
   ]
  }
 ],
 "metadata": {
  "kernelspec": {
   "display_name": "venv",
   "language": "python",
   "name": "python3"
  },
  "language_info": {
   "codemirror_mode": {
    "name": "ipython",
    "version": 3
   },
   "file_extension": ".py",
   "mimetype": "text/x-python",
   "name": "python",
   "nbconvert_exporter": "python",
   "pygments_lexer": "ipython3",
   "version": "3.12.3"
  }
 },
 "nbformat": 4,
 "nbformat_minor": 5
}
